{
 "cells": [
  {
   "cell_type": "code",
   "execution_count": 33,
   "id": "eda0f93c",
   "metadata": {},
   "outputs": [],
   "source": [
    "from tensorflow.compat.v1 import ConfigProto\n",
    "from tensorflow.compat.v1 import InteractiveSession\n",
    "\n",
    "config = ConfigProto()\n",
    "config.gpu_options.per_process_gpu_memory_fraction = 0.5\n",
    "config.gpu_options.allow_growth = True\n",
    "session = InteractiveSession(config = config)"
   ]
  },
  {
   "cell_type": "code",
   "execution_count": 5,
   "id": "c2257fc9",
   "metadata": {},
   "outputs": [],
   "source": [
    "import tensorflow as tf\n",
    "from tensorflow.keras.preprocessing.image import ImageDataGenerator"
   ]
  },
  {
   "cell_type": "code",
   "execution_count": 9,
   "id": "2835961e",
   "metadata": {},
   "outputs": [
    {
     "name": "stdout",
     "output_type": "stream",
     "text": [
      "Found 8000 images belonging to 2 classes.\n",
      "Found 2000 images belonging to 2 classes.\n"
     ]
    }
   ],
   "source": [
    "train_path = 'dataset/training_set'\n",
    "test_path = 'dataset/test_set'\n",
    "\n",
    "\n",
    "train_gen = ImageDataGenerator(rescale = 1.0/255, \n",
    "                               shear_range = 0.2, \n",
    "                               zoom_range = 0.2, \n",
    "                               horizontal_flip = True)\n",
    "\n",
    "training_set = train_gen.flow_from_directory(train_path, \n",
    "                                            target_size = (64,64),\n",
    "                                            batch_size = 32,\n",
    "                                            class_mode = 'binary')\n",
    "\n",
    "test_gen = ImageDataGenerator(rescale = 1.0/255)\n",
    "\n",
    "testing_set = test_gen.flow_from_directory(test_path, \n",
    "                                          target_size = (64,64),\n",
    "                                          batch_size = 32,\n",
    "                                          class_mode = 'binary')"
   ]
  },
  {
   "cell_type": "code",
   "execution_count": 15,
   "id": "7f4c9554",
   "metadata": {},
   "outputs": [],
   "source": [
    "from tensorflow.keras.layers import Conv2D, Dense, MaxPooling2D, Flatten\n",
    "from tensorflow.keras.regularizers import l2\n",
    "from tensorflow.keras.models import Sequential"
   ]
  },
  {
   "cell_type": "code",
   "execution_count": 25,
   "id": "2afcea4e",
   "metadata": {},
   "outputs": [],
   "source": [
    "model = Sequential()\n",
    "\n",
    "model.add(Conv2D(input_shape = (64,64,3), filters = 32, padding = 'same', kernel_size = 3, activation = 'relu'))\n",
    "model.add(MaxPooling2D(pool_size = 2, strides = 2))\n",
    "model.add(Conv2D(filters = 64, padding = 'same', kernel_size = 3, activation = 'relu'))\n",
    "model.add(MaxPooling2D(pool_size = 2, strides = 2))\n",
    "model.add(Flatten())\n",
    "model.add(Dense(128, activation = 'relu'))\n",
    "\n",
    "# BINARY CLASSIFICATION\n",
    "model.add(Dense(1, kernel_regularizer = l2(0.01), activation = 'linear'))\n",
    "# MULTI CLASSIFICATION\n",
    "# model.add(Dense(num_classes, kernel_regularizer = l2(0.01), activation = 'softmax'))\n",
    "# model.summary()"
   ]
  },
  {
   "cell_type": "code",
   "execution_count": 26,
   "id": "903eb7d6",
   "metadata": {},
   "outputs": [],
   "source": [
    "# BINARY CLASSIFICATION\n",
    "# HINGE - SVM \n",
    "model.compile(optimizer = 'adam', loss = 'hinge', metrics = ['accuracy'])\n",
    "# for MULTI CLASSIFICATION\n",
    "# model.compile(optimizer = 'adam', loss = 'squared_hinge', metrics = ['accuracy'])"
   ]
  },
  {
   "cell_type": "code",
   "execution_count": 27,
   "id": "d62efabe",
   "metadata": {},
   "outputs": [
    {
     "name": "stdout",
     "output_type": "stream",
     "text": [
      "Model: \"sequential_6\"\n",
      "_________________________________________________________________\n",
      " Layer (type)                Output Shape              Param #   \n",
      "=================================================================\n",
      " conv2d_10 (Conv2D)          (None, 64, 64, 32)        896       \n",
      "                                                                 \n",
      " max_pooling2d_8 (MaxPooling  (None, 32, 32, 32)       0         \n",
      " 2D)                                                             \n",
      "                                                                 \n",
      " conv2d_11 (Conv2D)          (None, 32, 32, 64)        18496     \n",
      "                                                                 \n",
      " max_pooling2d_9 (MaxPooling  (None, 16, 16, 64)       0         \n",
      " 2D)                                                             \n",
      "                                                                 \n",
      " flatten_3 (Flatten)         (None, 16384)             0         \n",
      "                                                                 \n",
      " dense_6 (Dense)             (None, 128)               2097280   \n",
      "                                                                 \n",
      " dense_7 (Dense)             (None, 1)                 129       \n",
      "                                                                 \n",
      "=================================================================\n",
      "Total params: 2,116,801\n",
      "Trainable params: 2,116,801\n",
      "Non-trainable params: 0\n",
      "_________________________________________________________________\n"
     ]
    }
   ],
   "source": [
    "model.summary()"
   ]
  },
  {
   "cell_type": "code",
   "execution_count": 34,
   "id": "e50991c7",
   "metadata": {},
   "outputs": [
    {
     "name": "stdout",
     "output_type": "stream",
     "text": [
      "Epoch 1/5\n",
      "250/250 [==============================] - 197s 790ms/step - loss: 0.7742 - accuracy: 0.6376 - val_loss: 0.6602 - val_accuracy: 0.6885\n",
      "Epoch 2/5\n",
      "250/250 [==============================] - 116s 464ms/step - loss: 0.6845 - accuracy: 0.6804 - val_loss: 0.6916 - val_accuracy: 0.7205\n",
      "Epoch 3/5\n",
      "250/250 [==============================] - 19s 78ms/step - loss: 0.6348 - accuracy: 0.7071 - val_loss: 0.5976 - val_accuracy: 0.7115\n",
      "Epoch 4/5\n",
      "250/250 [==============================] - 19s 78ms/step - loss: 0.5913 - accuracy: 0.7221 - val_loss: 0.5644 - val_accuracy: 0.7580\n",
      "Epoch 5/5\n",
      "250/250 [==============================] - 19s 78ms/step - loss: 0.5550 - accuracy: 0.7429 - val_loss: 0.6542 - val_accuracy: 0.7605\n"
     ]
    }
   ],
   "source": [
    "result = model.fit(training_set, validation_data = testing_set,epochs = 5)"
   ]
  },
  {
   "cell_type": "code",
   "execution_count": 35,
   "id": "e4c07926",
   "metadata": {},
   "outputs": [
    {
     "name": "stdout",
     "output_type": "stream",
     "text": [
      "Epoch 1/5\n",
      "250/250 [==============================] - 20s 82ms/step - loss: 0.5373 - accuracy: 0.7510 - val_loss: 0.5433 - val_accuracy: 0.7495\n",
      "Epoch 2/5\n",
      "250/250 [==============================] - 20s 78ms/step - loss: 0.5122 - accuracy: 0.7675 - val_loss: 0.5235 - val_accuracy: 0.7620\n",
      "Epoch 3/5\n",
      "250/250 [==============================] - 20s 80ms/step - loss: 0.4979 - accuracy: 0.7706 - val_loss: 0.5853 - val_accuracy: 0.7865\n",
      "Epoch 4/5\n",
      "250/250 [==============================] - 20s 79ms/step - loss: 0.4806 - accuracy: 0.7801 - val_loss: 0.5165 - val_accuracy: 0.7710\n",
      "Epoch 5/5\n",
      "250/250 [==============================] - 20s 81ms/step - loss: 0.4608 - accuracy: 0.7897 - val_loss: 0.5561 - val_accuracy: 0.7935\n"
     ]
    }
   ],
   "source": [
    "with tf.device('/GPU:0'):\n",
    "    result = model.fit(training_set, validation_data = testing_set,epochs = 5)"
   ]
  },
  {
   "cell_type": "code",
   "execution_count": 39,
   "id": "10ef9379",
   "metadata": {
    "scrolled": false
   },
   "outputs": [
    {
     "name": "stdout",
     "output_type": "stream",
     "text": [
      "Epoch 1/50\n",
      "250/250 [==============================] - 18s 73ms/step - loss: 0.3878 - accuracy: 0.8234 - val_loss: 0.5362 - val_accuracy: 0.7970\n",
      "Epoch 2/50\n",
      "250/250 [==============================] - 18s 71ms/step - loss: 0.3719 - accuracy: 0.8329 - val_loss: 0.4930 - val_accuracy: 0.7830\n",
      "Epoch 3/50\n",
      "250/250 [==============================] - 18s 70ms/step - loss: 0.3574 - accuracy: 0.8386 - val_loss: 0.5747 - val_accuracy: 0.7940\n",
      "Epoch 4/50\n",
      "250/250 [==============================] - 18s 73ms/step - loss: 0.3450 - accuracy: 0.8508 - val_loss: 0.4855 - val_accuracy: 0.8000\n",
      "Epoch 5/50\n",
      "250/250 [==============================] - 17s 69ms/step - loss: 0.3331 - accuracy: 0.8556 - val_loss: 0.5140 - val_accuracy: 0.8055\n",
      "Epoch 6/50\n",
      "250/250 [==============================] - 20s 80ms/step - loss: 0.3173 - accuracy: 0.8616 - val_loss: 0.4983 - val_accuracy: 0.8050\n",
      "Epoch 7/50\n",
      "250/250 [==============================] - 24s 98ms/step - loss: 0.3058 - accuracy: 0.8666 - val_loss: 0.5694 - val_accuracy: 0.8025\n",
      "Epoch 8/50\n",
      "250/250 [==============================] - 20s 79ms/step - loss: 0.3112 - accuracy: 0.8619 - val_loss: 0.5609 - val_accuracy: 0.7995\n",
      "Epoch 9/50\n",
      "250/250 [==============================] - 20s 80ms/step - loss: 0.2814 - accuracy: 0.8769 - val_loss: 0.5116 - val_accuracy: 0.8030\n",
      "Epoch 10/50\n",
      "250/250 [==============================] - 18s 71ms/step - loss: 0.2725 - accuracy: 0.8805 - val_loss: 0.5009 - val_accuracy: 0.8020\n",
      "Epoch 11/50\n",
      "250/250 [==============================] - 17s 70ms/step - loss: 0.2707 - accuracy: 0.8824 - val_loss: 0.5659 - val_accuracy: 0.7985\n",
      "Epoch 12/50\n",
      "250/250 [==============================] - 19s 74ms/step - loss: 0.2517 - accuracy: 0.8945 - val_loss: 0.5393 - val_accuracy: 0.8110\n",
      "Epoch 13/50\n",
      "250/250 [==============================] - 18s 73ms/step - loss: 0.2429 - accuracy: 0.8961 - val_loss: 0.5120 - val_accuracy: 0.8125\n",
      "Epoch 14/50\n",
      "250/250 [==============================] - 19s 75ms/step - loss: 0.2429 - accuracy: 0.8950 - val_loss: 0.5343 - val_accuracy: 0.8070\n",
      "Epoch 15/50\n",
      "250/250 [==============================] - 19s 75ms/step - loss: 0.2366 - accuracy: 0.8981 - val_loss: 0.5146 - val_accuracy: 0.8095\n",
      "Epoch 16/50\n",
      "250/250 [==============================] - 18s 70ms/step - loss: 0.2200 - accuracy: 0.9069 - val_loss: 0.5225 - val_accuracy: 0.8060\n",
      "Epoch 17/50\n",
      "250/250 [==============================] - 17s 70ms/step - loss: 0.2052 - accuracy: 0.9125 - val_loss: 0.5101 - val_accuracy: 0.8065\n",
      "Epoch 18/50\n",
      "250/250 [==============================] - 18s 73ms/step - loss: 0.2118 - accuracy: 0.9133 - val_loss: 0.5639 - val_accuracy: 0.8085\n",
      "Epoch 19/50\n",
      "250/250 [==============================] - 19s 75ms/step - loss: 0.2041 - accuracy: 0.9128 - val_loss: 0.5242 - val_accuracy: 0.8025\n",
      "Epoch 20/50\n",
      "250/250 [==============================] - 20s 81ms/step - loss: 0.1933 - accuracy: 0.9196 - val_loss: 0.6000 - val_accuracy: 0.7990\n",
      "Epoch 21/50\n",
      "250/250 [==============================] - 20s 81ms/step - loss: 0.1853 - accuracy: 0.9215 - val_loss: 0.5323 - val_accuracy: 0.8110\n",
      "Epoch 22/50\n",
      "250/250 [==============================] - 21s 82ms/step - loss: 0.1761 - accuracy: 0.9273 - val_loss: 0.5275 - val_accuracy: 0.8020\n",
      "Epoch 23/50\n",
      "250/250 [==============================] - 22s 86ms/step - loss: 0.1599 - accuracy: 0.9330 - val_loss: 0.5695 - val_accuracy: 0.8030\n",
      "Epoch 24/50\n",
      "250/250 [==============================] - 20s 80ms/step - loss: 0.1622 - accuracy: 0.9365 - val_loss: 0.5444 - val_accuracy: 0.8245\n",
      "Epoch 25/50\n",
      "250/250 [==============================] - 18s 72ms/step - loss: 0.1516 - accuracy: 0.9352 - val_loss: 0.5642 - val_accuracy: 0.8120\n",
      "Epoch 26/50\n",
      "250/250 [==============================] - 19s 78ms/step - loss: 0.1532 - accuracy: 0.9361 - val_loss: 0.5546 - val_accuracy: 0.8145\n",
      "Epoch 27/50\n",
      "250/250 [==============================] - 18s 73ms/step - loss: 0.1378 - accuracy: 0.9429 - val_loss: 0.5744 - val_accuracy: 0.8115\n",
      "Epoch 28/50\n",
      "250/250 [==============================] - 18s 72ms/step - loss: 0.1340 - accuracy: 0.9425 - val_loss: 0.5887 - val_accuracy: 0.8080\n",
      "Epoch 29/50\n",
      "250/250 [==============================] - 17s 68ms/step - loss: 0.1354 - accuracy: 0.9446 - val_loss: 0.5838 - val_accuracy: 0.8055\n",
      "Epoch 30/50\n",
      "250/250 [==============================] - 18s 74ms/step - loss: 0.1332 - accuracy: 0.9470 - val_loss: 0.5845 - val_accuracy: 0.8145\n",
      "Epoch 31/50\n",
      "250/250 [==============================] - 154s 618ms/step - loss: 0.1147 - accuracy: 0.9540 - val_loss: 0.5845 - val_accuracy: 0.8150\n",
      "Epoch 32/50\n",
      "250/250 [==============================] - 47s 190ms/step - loss: 0.1214 - accuracy: 0.9515 - val_loss: 0.5810 - val_accuracy: 0.8070\n",
      "Epoch 33/50\n",
      "250/250 [==============================] - 19s 75ms/step - loss: 0.1186 - accuracy: 0.9517 - val_loss: 0.5595 - val_accuracy: 0.8145\n",
      "Epoch 34/50\n",
      "250/250 [==============================] - 19s 74ms/step - loss: 0.1123 - accuracy: 0.9567 - val_loss: 0.5789 - val_accuracy: 0.8100\n",
      "Epoch 35/50\n",
      "250/250 [==============================] - 19s 76ms/step - loss: 0.1096 - accuracy: 0.9559 - val_loss: 0.5501 - val_accuracy: 0.8115\n",
      "Epoch 36/50\n",
      "250/250 [==============================] - 20s 81ms/step - loss: 0.1130 - accuracy: 0.9542 - val_loss: 0.6439 - val_accuracy: 0.8015\n",
      "Epoch 37/50\n",
      "250/250 [==============================] - 23s 94ms/step - loss: 0.1068 - accuracy: 0.9576 - val_loss: 0.6001 - val_accuracy: 0.8060\n",
      "Epoch 38/50\n",
      "250/250 [==============================] - 39s 154ms/step - loss: 0.0968 - accuracy: 0.9625 - val_loss: 0.6257 - val_accuracy: 0.8035\n",
      "Epoch 39/50\n",
      "250/250 [==============================] - 82s 326ms/step - loss: 0.1009 - accuracy: 0.9586 - val_loss: 0.5999 - val_accuracy: 0.8135\n",
      "Epoch 40/50\n",
      "250/250 [==============================] - 18s 72ms/step - loss: 0.0907 - accuracy: 0.9636 - val_loss: 0.5904 - val_accuracy: 0.8210\n",
      "Epoch 41/50\n",
      "250/250 [==============================] - 80s 321ms/step - loss: 0.0978 - accuracy: 0.9619 - val_loss: 0.6363 - val_accuracy: 0.8085\n",
      "Epoch 42/50\n",
      "250/250 [==============================] - 28s 113ms/step - loss: 0.0834 - accuracy: 0.9663 - val_loss: 0.6157 - val_accuracy: 0.8140\n",
      "Epoch 43/50\n",
      "250/250 [==============================] - 22s 90ms/step - loss: 0.0913 - accuracy: 0.9615 - val_loss: 0.6425 - val_accuracy: 0.8125\n",
      "Epoch 44/50\n",
      "250/250 [==============================] - 20s 78ms/step - loss: 0.0831 - accuracy: 0.9647 - val_loss: 0.6359 - val_accuracy: 0.7950\n",
      "Epoch 45/50\n",
      "250/250 [==============================] - 22s 87ms/step - loss: 0.0837 - accuracy: 0.9672 - val_loss: 0.6945 - val_accuracy: 0.8025\n",
      "Epoch 46/50\n",
      "250/250 [==============================] - 22s 89ms/step - loss: 0.0757 - accuracy: 0.9712 - val_loss: 0.6778 - val_accuracy: 0.8035\n",
      "Epoch 47/50\n",
      "250/250 [==============================] - 23s 92ms/step - loss: 0.0784 - accuracy: 0.9696 - val_loss: 0.6103 - val_accuracy: 0.8110\n",
      "Epoch 48/50\n",
      "250/250 [==============================] - 21s 85ms/step - loss: 0.0842 - accuracy: 0.9657 - val_loss: 0.6063 - val_accuracy: 0.8105\n",
      "Epoch 49/50\n",
      "250/250 [==============================] - 21s 85ms/step - loss: 0.0763 - accuracy: 0.9691 - val_loss: 0.6362 - val_accuracy: 0.8070\n",
      "Epoch 50/50\n",
      "250/250 [==============================] - 21s 85ms/step - loss: 0.0645 - accuracy: 0.9754 - val_loss: 0.6323 - val_accuracy: 0.8155\n"
     ]
    }
   ],
   "source": [
    "result = model.fit(training_set, validation_data = testing_set,epochs = 50)"
   ]
  },
  {
   "cell_type": "code",
   "execution_count": 40,
   "id": "a251ade2",
   "metadata": {},
   "outputs": [
    {
     "data": {
      "image/png": "[encoded data removed]",
      "text/plain": [
       "<Figure size 432x288 with 1 Axes>"
      ]
     },
     "metadata": {
      "needs_background": "light"
     },
     "output_type": "display_data"
    }
   ],
   "source": [
    "import matplotlib.pyplot as plt\n",
    "\n",
    "# LOSS PLOT\n",
    "plt.plot(result.history['loss'],label = 'train loss')\n",
    "plt.plot(result.history['val_loss'], label = 'val loss')\n",
    "plt.legend()\n",
    "plt.show()\n"
   ]
  },
  {
   "cell_type": "code",
   "execution_count": 41,
   "id": "0c2a91d6",
   "metadata": {},
   "outputs": [
    {
     "data": {
      "image/png": "[encoded data removed]",
      "text/plain": [
       "<Figure size 432x288 with 1 Axes>"
      ]
     },
     "metadata": {
      "needs_background": "light"
     },
     "output_type": "display_data"
    }
   ],
   "source": [
    "# ACCURACY PLOT\n",
    "plt.plot(result.history['accuracy'], label = 'train acc')\n",
    "plt.plot(result.history['val_accuracy'], label = 'val acc')\n",
    "plt.legend()\n",
    "plt.show()"
   ]
  },
  {
   "cell_type": "code",
   "execution_count": 42,
   "id": "954e4f32",
   "metadata": {},
   "outputs": [],
   "source": [
    "# SAVE THE MODEL\n",
    "model.save('D:/Datasets/cats_dogs/dataset/binary_classification_cat_and_dog.h5')"
   ]
  },
  {
   "cell_type": "code",
   "execution_count": null,
   "id": "446d381e",
   "metadata": {},
   "outputs": [],
   "source": []
  }
 ],
 "metadata": {
  "kernelspec": {
   "display_name": "Python 3 (ipykernel)",
   "language": "python",
   "name": "python3"
  },
  "language_info": {
   "codemirror_mode": {
    "name": "ipython",
    "version": 3
   },
   "file_extension": ".py",
   "mimetype": "text/x-python",
   "name": "python",
   "nbconvert_exporter": "python",
   "pygments_lexer": "ipython3",
   "version": "3.9.7"
  }
 },
 "nbformat": 4,
 "nbformat_minor": 5
}
